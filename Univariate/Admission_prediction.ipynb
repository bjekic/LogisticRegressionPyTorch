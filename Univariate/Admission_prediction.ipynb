{
 "cells": [
  {
   "cell_type": "code",
   "execution_count": 1,
   "metadata": {},
   "outputs": [],
   "source": [
    "import torch\n",
    "import torch.nn as nn\n",
    "import numpy as np\n",
    "import pandas as pd\n",
    "import matplotlib.pyplot as plt\n",
    "import seaborn as sns\n",
    "from sklearn.model_selection import train_test_split\n",
    "from sklearn.linear_model import LogisticRegression\n",
    "from sklearn.metrics import plot_roc_curve"
   ]
  },
  {
   "cell_type": "markdown",
   "metadata": {},
   "source": [
    "# Important Functions "
   ]
  },
  {
   "cell_type": "code",
   "execution_count": 2,
   "metadata": {},
   "outputs": [],
   "source": [
    "class logistic_regression(nn.Module):\n",
    "    def __init__(self,in_dim):\n",
    "        super().__init__()\n",
    "        self.log_reg = nn.Sequential(\n",
    "        nn.Linear(in_dim,1),\n",
    "        nn.Sigmoid()    \n",
    "        )\n",
    "    def forward(self,x):\n",
    "        return self.log_reg(x)\n",
    "    \n",
    "def train_log_reg(x_train, y_train, no_epochs = 100000, learn_rate = 0.1):\n",
    "    # Define the model\n",
    "    no_features = x_train.shape[1]\n",
    "    model = logistic_regression(no_features)\n",
    "    optimizer = torch.optim.Adam(model.parameters(), lr = learn_rate)\n",
    "    criterion = nn.BCELoss()\n",
    "    \n",
    "    loss_all = []\n",
    "    loss_prev = 1\n",
    "    # Train the model\n",
    "    for t in range(no_epochs):\n",
    "        y_pred = model(x_train)\n",
    "        loss = criterion(y_pred, y_train)\n",
    "        optimizer.zero_grad()\n",
    "        loss.backward()\n",
    "        optimizer.step()\n",
    "        \n",
    "        if np.abs(loss.item()-loss_prev)<1e-17:\n",
    "            break\n",
    "        \n",
    "        loss_prev = loss.item()\n",
    "        loss_all.append(loss.item())\n",
    "    \n",
    "    print('\\nLoss on training set: ' + str(loss.item()))   \n",
    "    plt.plot(loss_all)\n",
    "    plt.xlabel('Epoch')\n",
    "    plt.ylabel('Loss')\n",
    "    plt.show()    \n",
    "    return model, loss.item()\n",
    "\n",
    "# Normalize data\n",
    "def normalize_data(input_data):\n",
    "    mu = input_data.mean(axis=0)\n",
    "    std = input_data.std(axis=0)\n",
    "    return (input_data-mu)/std, mu, std\n",
    "\n",
    "# Evaluate the model\n",
    "def evaluate_model(y_pred,y_test):\n",
    "    y_output = y_pred\n",
    "    y_output[y_output>=0.5]=1\n",
    "    y_output[y_output<0.5]=0\n",
    "        \n",
    "    TP = np.sum(    y_output  *    y_test  )\n",
    "    TN = np.sum( (1-y_output) * (1-y_test) )\n",
    "    FP = np.sum(    y_output  * (1-y_test) )\n",
    "    FN = np.sum( (1-y_output) *    y_test  )\n",
    "    #print(str(TP)+' '+str(TN)+' '+str(FP)+' '+str(FN))        \n",
    "    \n",
    "    accuracy  = (TP+TN) / (TP+TN+FP+FN)\n",
    "    recall    = TP / (TP+FN)\n",
    "    precision = TP / (TP+FP)\n",
    "    f1_score  = 2 * (precision * recall) / (precision + recall)\n",
    "    print( ' -Accuracy: '  + str(accuracy)  )\n",
    "    print( ' -Precision: ' + str(precision) )\n",
    "    print( ' -Recall: '    + str(recall)    )\n",
    "    print( ' -F1 score: '  + str(f1_score)  )\n",
    "    \n",
    "# Print the parameters of the PyTorch Linear Regression model\n",
    "def print_parameters(model):\n",
    "    for name, param in model.named_parameters():\n",
    "        if name == 'log_reg.0.weight':\n",
    "            print (' -Weights: '  + str(param.data.numpy().squeeze()), end = '; ')\n",
    "        if name == 'log_reg.0.bias':\n",
    "            print (' -Bias: '  + str(param.data.numpy().squeeze()), end = '; ')\n",
    "        print()\n",
    "    print()\n"
   ]
  },
  {
   "cell_type": "markdown",
   "metadata": {},
   "source": [
    "# Loading data"
   ]
  },
  {
   "cell_type": "code",
   "execution_count": 3,
   "metadata": {},
   "outputs": [
    {
     "name": "stdout",
     "output_type": "stream",
     "text": [
      "Index(['Serial No.', 'GRE Score', 'TOEFL Score', 'University Rating', 'SOP',\n",
      "       'LOR ', 'CGPA', 'Research', 'Chance of Admit '],\n",
      "      dtype='object')\n"
     ]
    },
    {
     "data": {
      "text/html": [
       "<div>\n",
       "<style scoped>\n",
       "    .dataframe tbody tr th:only-of-type {\n",
       "        vertical-align: middle;\n",
       "    }\n",
       "\n",
       "    .dataframe tbody tr th {\n",
       "        vertical-align: top;\n",
       "    }\n",
       "\n",
       "    .dataframe thead th {\n",
       "        text-align: right;\n",
       "    }\n",
       "</style>\n",
       "<table border=\"1\" class=\"dataframe\">\n",
       "  <thead>\n",
       "    <tr style=\"text-align: right;\">\n",
       "      <th></th>\n",
       "      <th>Serial No.</th>\n",
       "      <th>GRE Score</th>\n",
       "      <th>TOEFL Score</th>\n",
       "      <th>University Rating</th>\n",
       "      <th>SOP</th>\n",
       "      <th>LOR</th>\n",
       "      <th>CGPA</th>\n",
       "      <th>Research</th>\n",
       "      <th>Chance of Admit</th>\n",
       "    </tr>\n",
       "  </thead>\n",
       "  <tbody>\n",
       "    <tr>\n",
       "      <th>0</th>\n",
       "      <td>1</td>\n",
       "      <td>337</td>\n",
       "      <td>118</td>\n",
       "      <td>4</td>\n",
       "      <td>4.5</td>\n",
       "      <td>4.5</td>\n",
       "      <td>9.65</td>\n",
       "      <td>1</td>\n",
       "      <td>1</td>\n",
       "    </tr>\n",
       "    <tr>\n",
       "      <th>1</th>\n",
       "      <td>2</td>\n",
       "      <td>324</td>\n",
       "      <td>107</td>\n",
       "      <td>4</td>\n",
       "      <td>4.0</td>\n",
       "      <td>4.5</td>\n",
       "      <td>8.87</td>\n",
       "      <td>1</td>\n",
       "      <td>1</td>\n",
       "    </tr>\n",
       "    <tr>\n",
       "      <th>2</th>\n",
       "      <td>3</td>\n",
       "      <td>316</td>\n",
       "      <td>104</td>\n",
       "      <td>3</td>\n",
       "      <td>3.0</td>\n",
       "      <td>3.5</td>\n",
       "      <td>8.00</td>\n",
       "      <td>1</td>\n",
       "      <td>1</td>\n",
       "    </tr>\n",
       "    <tr>\n",
       "      <th>3</th>\n",
       "      <td>4</td>\n",
       "      <td>322</td>\n",
       "      <td>110</td>\n",
       "      <td>3</td>\n",
       "      <td>3.5</td>\n",
       "      <td>2.5</td>\n",
       "      <td>8.67</td>\n",
       "      <td>1</td>\n",
       "      <td>1</td>\n",
       "    </tr>\n",
       "    <tr>\n",
       "      <th>4</th>\n",
       "      <td>5</td>\n",
       "      <td>314</td>\n",
       "      <td>103</td>\n",
       "      <td>2</td>\n",
       "      <td>2.0</td>\n",
       "      <td>3.0</td>\n",
       "      <td>8.21</td>\n",
       "      <td>0</td>\n",
       "      <td>1</td>\n",
       "    </tr>\n",
       "    <tr>\n",
       "      <th>5</th>\n",
       "      <td>6</td>\n",
       "      <td>330</td>\n",
       "      <td>115</td>\n",
       "      <td>5</td>\n",
       "      <td>4.5</td>\n",
       "      <td>3.0</td>\n",
       "      <td>9.34</td>\n",
       "      <td>1</td>\n",
       "      <td>1</td>\n",
       "    </tr>\n",
       "    <tr>\n",
       "      <th>6</th>\n",
       "      <td>7</td>\n",
       "      <td>321</td>\n",
       "      <td>109</td>\n",
       "      <td>3</td>\n",
       "      <td>3.0</td>\n",
       "      <td>4.0</td>\n",
       "      <td>8.20</td>\n",
       "      <td>1</td>\n",
       "      <td>1</td>\n",
       "    </tr>\n",
       "    <tr>\n",
       "      <th>7</th>\n",
       "      <td>8</td>\n",
       "      <td>308</td>\n",
       "      <td>101</td>\n",
       "      <td>2</td>\n",
       "      <td>3.0</td>\n",
       "      <td>4.0</td>\n",
       "      <td>7.90</td>\n",
       "      <td>0</td>\n",
       "      <td>1</td>\n",
       "    </tr>\n",
       "    <tr>\n",
       "      <th>8</th>\n",
       "      <td>9</td>\n",
       "      <td>302</td>\n",
       "      <td>102</td>\n",
       "      <td>1</td>\n",
       "      <td>2.0</td>\n",
       "      <td>1.5</td>\n",
       "      <td>8.00</td>\n",
       "      <td>0</td>\n",
       "      <td>0</td>\n",
       "    </tr>\n",
       "    <tr>\n",
       "      <th>9</th>\n",
       "      <td>10</td>\n",
       "      <td>323</td>\n",
       "      <td>108</td>\n",
       "      <td>3</td>\n",
       "      <td>3.5</td>\n",
       "      <td>3.0</td>\n",
       "      <td>8.60</td>\n",
       "      <td>0</td>\n",
       "      <td>0</td>\n",
       "    </tr>\n",
       "  </tbody>\n",
       "</table>\n",
       "</div>"
      ],
      "text/plain": [
       "   Serial No.  GRE Score  TOEFL Score  University Rating  SOP  LOR   CGPA  \\\n",
       "0           1        337          118                  4  4.5   4.5  9.65   \n",
       "1           2        324          107                  4  4.0   4.5  8.87   \n",
       "2           3        316          104                  3  3.0   3.5  8.00   \n",
       "3           4        322          110                  3  3.5   2.5  8.67   \n",
       "4           5        314          103                  2  2.0   3.0  8.21   \n",
       "5           6        330          115                  5  4.5   3.0  9.34   \n",
       "6           7        321          109                  3  3.0   4.0  8.20   \n",
       "7           8        308          101                  2  3.0   4.0  7.90   \n",
       "8           9        302          102                  1  2.0   1.5  8.00   \n",
       "9          10        323          108                  3  3.5   3.0  8.60   \n",
       "\n",
       "   Research  Chance of Admit   \n",
       "0         1                 1  \n",
       "1         1                 1  \n",
       "2         1                 1  \n",
       "3         1                 1  \n",
       "4         0                 1  \n",
       "5         1                 1  \n",
       "6         1                 1  \n",
       "7         0                 1  \n",
       "8         0                 0  \n",
       "9         0                 0  "
      ]
     },
     "execution_count": 3,
     "metadata": {},
     "output_type": "execute_result"
    }
   ],
   "source": [
    "# Import data\n",
    "data = pd.read_csv('Admission_Predict_logits.csv')\n",
    "\n",
    "# Feature names\n",
    "print(data.columns)\n",
    "\n",
    "# Show first 10 examples\n",
    "data.head(10)"
   ]
  },
  {
   "cell_type": "code",
   "execution_count": 4,
   "metadata": {},
   "outputs": [],
   "source": [
    "# Preparing data\n",
    "x = torch.tensor(data.drop(['Serial No.', 'Chance of Admit '],axis=1).values).float()\n",
    "y = torch.tensor(data['Chance of Admit ']).float().view(-1,1)\n",
    "\n",
    "x_train_non_normalized, x_test_non_normalized, y_train, y_test = train_test_split(x, y, test_size = 0.20, random_state = 3)\n",
    "x_train, mu, std = normalize_data(x_train_non_normalized)\n",
    "x_test = ( x_test_non_normalized - mu )/std"
   ]
  },
  {
   "cell_type": "markdown",
   "metadata": {},
   "source": [
    "# PyTorch Logistic Regression model"
   ]
  },
  {
   "cell_type": "code",
   "execution_count": 5,
   "metadata": {},
   "outputs": [
    {
     "name": "stdout",
     "output_type": "stream",
     "text": [
      "\n",
      "Loss on training set: 0.2446504533290863\n"
     ]
    },
    {
     "data": {
      "image/png": "[encoded data removed]",
      "text/plain": [
       "<Figure size 432x288 with 1 Axes>"
      ]
     },
     "metadata": {
      "needs_background": "light"
     },
     "output_type": "display_data"
    },
    {
     "name": "stdout",
     "output_type": "stream",
     "text": [
      "Training set:\n",
      " -Loss: 0.24465036\n",
      " -Accuracy: 0.9125\n",
      " -Precision: 0.9271137\n",
      " -Recall: 0.9695122\n",
      " -F1 score: 0.9478390139768242\n",
      "\n",
      "Test set:\n",
      " -Loss: 0.26003158\n",
      " -Accuracy: 0.92\n",
      " -Precision: 0.91358024\n",
      " -Recall: 0.9866667\n",
      " -F1 score: 0.9487179953659959\n"
     ]
    }
   ],
   "source": [
    "# Train the model without regularization\n",
    "model, loss = train_log_reg(x_train, y_train, learn_rate = 0.01)\n",
    "\n",
    "# Evaluate the model on train set\n",
    "y_pred_train = model(x_train)\n",
    "\n",
    "print('Training set:')\n",
    "criterion = nn.BCELoss()\n",
    "loss = criterion(y_pred_train, y_train).data.numpy().squeeze()\n",
    "print( ' -Loss: '      + str(loss) )\n",
    "evaluate_model(y_pred_train.data.numpy(), y_train.data.numpy())\n",
    "\n",
    "\n",
    "# Evaluate the model on test set\n",
    "y_pred_test = model(x_test)\n",
    "\n",
    "print('\\nTest set:')\n",
    "criterion = nn.BCELoss()\n",
    "loss = criterion(y_pred_test, y_test).data.numpy().squeeze()\n",
    "print( ' -Loss: ' + str(loss) )\n",
    "evaluate_model(y_pred_test.data.numpy(), y_test.data.numpy())"
   ]
  },
  {
   "cell_type": "code",
   "execution_count": 6,
   "metadata": {},
   "outputs": [
    {
     "name": "stdout",
     "output_type": "stream",
     "text": [
      "Parameters of the PyTorch model:\n",
      " -Weights: [0.3557783  0.24137706 0.0677684  0.21948367 0.33005366 2.027229\n",
      " 0.27477995]; \n",
      " -Bias: 3.3979394; \n",
      "\n"
     ]
    }
   ],
   "source": [
    "print('Parameters of the PyTorch model:')\n",
    "print_parameters(model)"
   ]
  },
  {
   "cell_type": "markdown",
   "metadata": {},
   "source": [
    "# Scikit-learn Logistic Regression model"
   ]
  },
  {
   "cell_type": "code",
   "execution_count": 7,
   "metadata": {},
   "outputs": [
    {
     "name": "stdout",
     "output_type": "stream",
     "text": [
      "Training set:\n",
      " -Accuracy: 0.9125\n",
      " -Precision: 0.9271137\n",
      " -Recall: 0.9695122\n",
      " -F1 score: 0.9478390139768242\n",
      "Test set:\n",
      " -Accuracy: 0.92\n",
      " -Precision: 0.91358024\n",
      " -Recall: 0.9866667\n",
      " -F1 score: 0.9487179953659959\n"
     ]
    }
   ],
   "source": [
    "# Instantiating the model and training\n",
    "log_reg_sklearn = LogisticRegression( penalty='none' )\n",
    "log_reg_sklearn.fit(x_train, y_train.data.numpy().ravel())\n",
    "\n",
    "# Evaluating the sklearn model\n",
    "print('Training set:')\n",
    "evaluate_model( log_reg_sklearn.predict(x_train).reshape(-1,1), y_train.data.numpy() )\n",
    "\n",
    "print('Test set:')\n",
    "evaluate_model( log_reg_sklearn.predict(x_test).reshape(-1,1), y_test.data.numpy() )"
   ]
  },
  {
   "cell_type": "code",
   "execution_count": 8,
   "metadata": {},
   "outputs": [
    {
     "name": "stdout",
     "output_type": "stream",
     "text": [
      "Parameters of the Scikit-learn model:\n",
      " -Weights: [0.35865352 0.24336895 0.07052297 0.22031169 0.33247953 2.04399319\n",
      " 0.27729448]\n",
      " -Bias: 3.42722123060512\n"
     ]
    }
   ],
   "source": [
    "print('Parameters of the Scikit-learn model:')\n",
    "print(' -Weights: ' + str( log_reg_sklearn.coef_.squeeze()) )\n",
    "print(' -Bias: ' + str( log_reg_sklearn.intercept_.squeeze()) )"
   ]
  },
  {
   "cell_type": "code",
   "execution_count": 9,
   "metadata": {},
   "outputs": [
    {
     "data": {
      "text/plain": [
       "<sklearn.metrics._plot.roc_curve.RocCurveDisplay at 0x1ff05da5eb0>"
      ]
     },
     "execution_count": 9,
     "metadata": {},
     "output_type": "execute_result"
    },
    {
     "data": {
      "image/png": "[encoded data removed]",
      "text/plain": [
       "<Figure size 432x288 with 1 Axes>"
      ]
     },
     "metadata": {
      "needs_background": "light"
     },
     "output_type": "display_data"
    }
   ],
   "source": [
    "# ROC curve for the sklearn Logistic Regression model\n",
    "plot_roc_curve(log_reg_sklearn, x_test, y_test)"
   ]
  }
 ],
 "metadata": {
  "kernelspec": {
   "display_name": "Python 3",
   "language": "python",
   "name": "python3"
  },
  "language_info": {
   "codemirror_mode": {
    "name": "ipython",
    "version": 3
   },
   "file_extension": ".py",
   "mimetype": "text/x-python",
   "name": "python",
   "nbconvert_exporter": "python",
   "pygments_lexer": "ipython3",
   "version": "3.8.5"
  }
 },
 "nbformat": 4,
 "nbformat_minor": 4
}
