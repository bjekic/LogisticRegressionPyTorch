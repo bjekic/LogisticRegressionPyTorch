{
 "cells": [
  {
   "cell_type": "code",
   "execution_count": 11,
   "metadata": {},
   "outputs": [],
   "source": [
    "import numpy as np\n",
    "import matplotlib.pyplot as plt\n",
    "import torch\n",
    "import torch.nn as nn\n",
    "import pandas as pd\n",
    "from sklearn.model_selection import train_test_split\n",
    "from sklearn.linear_model import LogisticRegression"
   ]
  },
  {
   "cell_type": "markdown",
   "metadata": {},
   "source": [
    "# Important functions"
   ]
  },
  {
   "cell_type": "code",
   "execution_count": 128,
   "metadata": {},
   "outputs": [],
   "source": [
    "# Function for normalizing data\n",
    "def NormalizeData(input_data):\n",
    "    mu = input_data.mean(axis = 0)\n",
    "    std = input_data.std(axis = 0)\n",
    "    return (input_data - mu) / std, mu, std\n",
    "\n",
    "# Defining class for Multinomial Logistic Regression\n",
    "class MultinomialLogisticRegression(nn.Module):\n",
    "    def __init__(self, inputDim, outputDim):\n",
    "        super().__init__()\n",
    "        self.MultinomialLogReg = nn.Sequential(\n",
    "            nn.Linear(inputDim, outputDim),\n",
    "            nn.Softmax(dim = 1)\n",
    "        )\n",
    "        \n",
    "    def forward(self, x):\n",
    "        return self.MultinomialLogReg(x)\n",
    "    \n",
    "# Function for training the model\n",
    "def TrainModel(x_train, y_train, no_epochs, learning_rate, numClass):\n",
    "    inputDim = x_train.shape[1]\n",
    "    \n",
    "    # Defining the model\n",
    "    model = MultinomialLogisticRegression(inputDim, numClass)\n",
    "    criterion = nn.CrossEntropyLoss()\n",
    "    optimizer = torch.optim.Adam(model.parameters(), lr = learning_rate)\n",
    "    \n",
    "    # Training the model\n",
    "    loss_prev = 2000\n",
    "    loss_all = []\n",
    "    for epoch in range(no_epochs):\n",
    "        y_pred = model(x_train)\n",
    "        loss = criterion(y_pred, y_train)\n",
    "        optimizer.zero_grad()\n",
    "        loss.backward()\n",
    "        optimizer.step()\n",
    "        \n",
    "        if(np.abs(loss_prev - loss.item()) < 1e-15):\n",
    "            break\n",
    "            \n",
    "        loss_prev = loss.item()\n",
    "        loss_all.append(loss.item())\n",
    "        \n",
    "    print('\\nLoss on training set: ' + str(loss.item()))\n",
    "    \n",
    "    plt.plot(loss_all)\n",
    "    plt.xlabel('Epoch')\n",
    "    plt.ylabel('Loss')\n",
    "    plt.show()\n",
    "    return model, loss.item()\n",
    "\n",
    "# Function for accuracy calculation \n",
    "def CalculateAccuracy(y_pred, y_target):\n",
    "    return np.mean(y_pred == y_target) * 100"
   ]
  },
  {
   "cell_type": "markdown",
   "metadata": {},
   "source": [
    "# Loading and preparing data"
   ]
  },
  {
   "cell_type": "code",
   "execution_count": 58,
   "metadata": {},
   "outputs": [
    {
     "data": {
      "text/html": [
       "<div>\n",
       "<style scoped>\n",
       "    .dataframe tbody tr th:only-of-type {\n",
       "        vertical-align: middle;\n",
       "    }\n",
       "\n",
       "    .dataframe tbody tr th {\n",
       "        vertical-align: top;\n",
       "    }\n",
       "\n",
       "    .dataframe thead th {\n",
       "        text-align: right;\n",
       "    }\n",
       "</style>\n",
       "<table border=\"1\" class=\"dataframe\">\n",
       "  <thead>\n",
       "    <tr style=\"text-align: right;\">\n",
       "      <th></th>\n",
       "      <th>input1</th>\n",
       "      <th>input2</th>\n",
       "      <th>input3</th>\n",
       "      <th>input4</th>\n",
       "      <th>input5</th>\n",
       "      <th>input6</th>\n",
       "      <th>input7</th>\n",
       "      <th>input8</th>\n",
       "      <th>input9</th>\n",
       "      <th>input10</th>\n",
       "      <th>input11</th>\n",
       "      <th>input12</th>\n",
       "      <th>input13</th>\n",
       "      <th>input14</th>\n",
       "      <th>input15</th>\n",
       "      <th>input16</th>\n",
       "      <th>class</th>\n",
       "    </tr>\n",
       "  </thead>\n",
       "  <tbody>\n",
       "    <tr>\n",
       "      <th>0</th>\n",
       "      <td>47</td>\n",
       "      <td>100</td>\n",
       "      <td>27</td>\n",
       "      <td>81</td>\n",
       "      <td>57</td>\n",
       "      <td>37</td>\n",
       "      <td>26</td>\n",
       "      <td>0</td>\n",
       "      <td>0</td>\n",
       "      <td>23</td>\n",
       "      <td>56</td>\n",
       "      <td>53</td>\n",
       "      <td>100</td>\n",
       "      <td>90</td>\n",
       "      <td>40</td>\n",
       "      <td>98</td>\n",
       "      <td>8</td>\n",
       "    </tr>\n",
       "    <tr>\n",
       "      <th>1</th>\n",
       "      <td>0</td>\n",
       "      <td>89</td>\n",
       "      <td>27</td>\n",
       "      <td>100</td>\n",
       "      <td>42</td>\n",
       "      <td>75</td>\n",
       "      <td>29</td>\n",
       "      <td>45</td>\n",
       "      <td>15</td>\n",
       "      <td>15</td>\n",
       "      <td>37</td>\n",
       "      <td>0</td>\n",
       "      <td>69</td>\n",
       "      <td>2</td>\n",
       "      <td>100</td>\n",
       "      <td>6</td>\n",
       "      <td>2</td>\n",
       "    </tr>\n",
       "    <tr>\n",
       "      <th>2</th>\n",
       "      <td>0</td>\n",
       "      <td>57</td>\n",
       "      <td>31</td>\n",
       "      <td>68</td>\n",
       "      <td>72</td>\n",
       "      <td>90</td>\n",
       "      <td>100</td>\n",
       "      <td>100</td>\n",
       "      <td>76</td>\n",
       "      <td>75</td>\n",
       "      <td>50</td>\n",
       "      <td>51</td>\n",
       "      <td>28</td>\n",
       "      <td>25</td>\n",
       "      <td>16</td>\n",
       "      <td>0</td>\n",
       "      <td>1</td>\n",
       "    </tr>\n",
       "    <tr>\n",
       "      <th>3</th>\n",
       "      <td>0</td>\n",
       "      <td>100</td>\n",
       "      <td>7</td>\n",
       "      <td>92</td>\n",
       "      <td>5</td>\n",
       "      <td>68</td>\n",
       "      <td>19</td>\n",
       "      <td>45</td>\n",
       "      <td>86</td>\n",
       "      <td>34</td>\n",
       "      <td>100</td>\n",
       "      <td>45</td>\n",
       "      <td>74</td>\n",
       "      <td>23</td>\n",
       "      <td>67</td>\n",
       "      <td>0</td>\n",
       "      <td>4</td>\n",
       "    </tr>\n",
       "    <tr>\n",
       "      <th>4</th>\n",
       "      <td>0</td>\n",
       "      <td>67</td>\n",
       "      <td>49</td>\n",
       "      <td>83</td>\n",
       "      <td>100</td>\n",
       "      <td>100</td>\n",
       "      <td>81</td>\n",
       "      <td>80</td>\n",
       "      <td>60</td>\n",
       "      <td>60</td>\n",
       "      <td>40</td>\n",
       "      <td>40</td>\n",
       "      <td>33</td>\n",
       "      <td>20</td>\n",
       "      <td>47</td>\n",
       "      <td>0</td>\n",
       "      <td>1</td>\n",
       "    </tr>\n",
       "  </tbody>\n",
       "</table>\n",
       "</div>"
      ],
      "text/plain": [
       "   input1  input2  input3  input4  input5  input6  input7  input8  input9  \\\n",
       "0      47     100      27      81      57      37      26       0       0   \n",
       "1       0      89      27     100      42      75      29      45      15   \n",
       "2       0      57      31      68      72      90     100     100      76   \n",
       "3       0     100       7      92       5      68      19      45      86   \n",
       "4       0      67      49      83     100     100      81      80      60   \n",
       "\n",
       "   input10  input11  input12  input13  input14  input15  input16  class  \n",
       "0       23       56       53      100       90       40       98      8  \n",
       "1       15       37        0       69        2      100        6      2  \n",
       "2       75       50       51       28       25       16        0      1  \n",
       "3       34      100       45       74       23       67        0      4  \n",
       "4       60       40       40       33       20       47        0      1  "
      ]
     },
     "execution_count": 58,
     "metadata": {},
     "output_type": "execute_result"
    }
   ],
   "source": [
    "# Import data\n",
    "data = pd.read_csv('dataset_32_pendigits.csv')\n",
    "\n",
    "# Print first 5 examples\n",
    "data.head()"
   ]
  },
  {
   "cell_type": "code",
   "execution_count": 138,
   "metadata": {},
   "outputs": [],
   "source": [
    "# Prepare data\n",
    "x = torch.tensor(data.drop('class', axis = 1).values).float()\n",
    "y = torch.tensor(data['class'].values)\n",
    "\n",
    "num_class = len(np.unique(y.data.numpy()))\n",
    "\n",
    "x_train, x_test, y_train, y_test = train_test_split(x, y, test_size = 0.10, random_state = 15)\n",
    "\n",
    "# Normalize data\n",
    "x_train, mu, std = NormalizeData(x_train)\n",
    "x_test = (x_test - mu) / std"
   ]
  },
  {
   "cell_type": "markdown",
   "metadata": {},
   "source": [
    "# Multinomial Logistic Regression using PyTorch"
   ]
  },
  {
   "cell_type": "code",
   "execution_count": 141,
   "metadata": {},
   "outputs": [
    {
     "name": "stdout",
     "output_type": "stream",
     "text": [
      "\n",
      "Loss on training set: 1.51838219165802\n"
     ]
    },
    {
     "data": {
      "image/png": "[encoded data removed]",
      "text/plain": [
       "<Figure size 432x288 with 1 Axes>"
      ]
     },
     "metadata": {
      "needs_background": "light"
     },
     "output_type": "display_data"
    }
   ],
   "source": [
    "# Train the model\n",
    "no_epochs = 10000\n",
    "learning_rate = 0.02\n",
    "\n",
    "model, loss = TrainModel(x_train, y_train, no_epochs, learning_rate, num_class)"
   ]
  },
  {
   "cell_type": "code",
   "execution_count": 142,
   "metadata": {},
   "outputs": [
    {
     "name": "stdout",
     "output_type": "stream",
     "text": [
      "Accuracy on train set: 94.50060655074807%\n",
      "Accuracy on test set: 93.45454545454545%\n"
     ]
    }
   ],
   "source": [
    "# Results\n",
    "y_pred_train = model(x_train)\n",
    "y_pred_train_np = y_pred_train.argmax(axis = 1).data.numpy()\n",
    "accuracy_train = CalculateAccuracy(y_pred_train_np, y_train.data.numpy())\n",
    "print('Accuracy on train set: ' + str(accuracy_train) + '%')\n",
    "\n",
    "y_pred_test = model(x_test)\n",
    "y_pred_test_np = y_pred_test.argmax(axis = 1).data.numpy()\n",
    "accuracy_test = CalculateAccuracy(y_pred_test_np, y_test.data.numpy())\n",
    "print('Accuracy on test set: ' + str(accuracy_test) + '%')\n"
   ]
  },
  {
   "cell_type": "markdown",
   "metadata": {},
   "source": [
    "# Multinomial Logistic Regression using sklearn"
   ]
  },
  {
   "cell_type": "code",
   "execution_count": 151,
   "metadata": {},
   "outputs": [
    {
     "name": "stdout",
     "output_type": "stream",
     "text": [
      "Accuracy on train set: 96.05742013748484%\n",
      "Accuracy on test set: 95.36363636363636%\n"
     ]
    }
   ],
   "source": [
    "multinomLogReg_sklearn = LogisticRegression(penalty = 'none', multi_class = 'multinomial', max_iter = 10000, tol = 1e-15)\n",
    "multinomLogReg_sklearn.fit(x_train, y_train.data.numpy().ravel())\n",
    "\n",
    "# Training data\n",
    "y_pred_sklearn_train = multinomLogReg_sklearn.predict(x_train)\n",
    "accuracy_train = CalculateAccuracy(y_pred_sklearn_train, y_train.data.numpy())\n",
    "print('Accuracy on train set: ' + str(accuracy_train) + '%')\n",
    "\n",
    "# Test data\n",
    "y_pred_sklearn_test = multinomLogReg_sklearn.predict(x_test)\n",
    "accuracy_test = CalculateAccuracy(y_pred_sklearn_test, y_test.data.numpy())\n",
    "print('Accuracy on test set: ' + str(accuracy_test) + '%')"
   ]
  }
 ],
 "metadata": {
  "kernelspec": {
   "display_name": "Python 3",
   "language": "python",
   "name": "python3"
  },
  "language_info": {
   "codemirror_mode": {
    "name": "ipython",
    "version": 3
   },
   "file_extension": ".py",
   "mimetype": "text/x-python",
   "name": "python",
   "nbconvert_exporter": "python",
   "pygments_lexer": "ipython3",
   "version": "3.7.6"
  }
 },
 "nbformat": 4,
 "nbformat_minor": 4
}
